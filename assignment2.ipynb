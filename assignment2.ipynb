{
  "nbformat": 4,
  "nbformat_minor": 0,
  "metadata": {
    "colab": {
      "name": "assignment2.ipynb",
      "provenance": [],
      "collapsed_sections": [],
      "authorship_tag": "ABX9TyNuLb6I6QBpzSkqUtDREiPB",
      "include_colab_link": true
    },
    "kernelspec": {
      "name": "python3",
      "display_name": "Python 3"
    }
  },
  "cells": [
    {
      "cell_type": "markdown",
      "metadata": {
        "id": "view-in-github",
        "colab_type": "text"
      },
      "source": [
        "<a href=\"https://colab.research.google.com/github/18K41A0544-varshini/Assignment-2-colab-jupiter-/blob/master/assignment2.ipynb\" target=\"_parent\"><img src=\"https://colab.research.google.com/assets/colab-badge.svg\" alt=\"Open In Colab\"/></a>"
      ]
    },
    {
      "cell_type": "code",
      "metadata": {
        "id": "C0UOqUSZpPgD",
        "colab_type": "code",
        "colab": {
          "base_uri": "https://localhost:8080/",
          "height": 91
        },
        "outputId": "cb39e197-0e52-429f-ed98-6d9816d95c43"
      },
      "source": [
        "a=int(input(\"enter first side\"))\n",
        "b=int(input(\"enter second side\"))\n",
        "c=int(input(\"enter third side\"))\n",
        "s=(a+b+c)//2\n",
        "area=(pow((s*(s-a)*(s-b)*(s-c)),(1/2)))\n",
        "print(\"area of triangle is:\",area)"
      ],
      "execution_count": null,
      "outputs": [
        {
          "output_type": "stream",
          "text": [
            "enter first side13\n",
            "enter second side12\n",
            "enter third side15\n",
            "area of triangle is: 74.83314773547883\n"
          ],
          "name": "stdout"
        }
      ]
    },
    {
      "cell_type": "code",
      "metadata": {
        "id": "z5RtC45rwfHY",
        "colab_type": "code",
        "colab": {
          "base_uri": "https://localhost:8080/",
          "height": 91
        },
        "outputId": "d694a4d0-7ff5-40c5-ce33-081c9310a38f"
      },
      "source": [
        "word=input(\"enter any string\")\n",
        "h=word[::-1]\n",
        "i=word[::1]\n",
        "print(h)\n",
        "print(i)\n",
        "if h==i:\n",
        "  print(\"palin\")\n",
        "else:\n",
        "  print(\"not a palin\")\n"
      ],
      "execution_count": null,
      "outputs": [
        {
          "output_type": "stream",
          "text": [
            "enter any stringvarshini\n",
            "inihsrav\n",
            "varshini\n",
            "not a palin\n"
          ],
          "name": "stdout"
        }
      ]
    },
    {
      "cell_type": "code",
      "metadata": {
        "id": "1vQgMudxx4v1",
        "colab_type": "code",
        "colab": {}
      },
      "source": [
        "year=int(input(\"enter any year\"))\n",
        "if year%400==0:\n",
        "  print(\"leap year\")\n",
        "elif year%100==0:\n",
        "  print(\"not a leap year\")\n",
        "elif year%4==0:\n",
        "  print(\"leap year\")\n",
        "else:\n",
        "  print(\"not a leap year\")"
      ],
      "execution_count": null,
      "outputs": []
    },
    {
      "cell_type": "code",
      "metadata": {
        "id": "X7hkKz7dzus8",
        "colab_type": "code",
        "colab": {
          "base_uri": "https://localhost:8080/",
          "height": 54
        },
        "outputId": "8282944c-e8b6-41c7-97b8-8cfa207c41c9"
      },
      "source": [
        "sen=input(\"enter a string\")\n",
        "sen1=sen.replace(\" \",\"-\")\n",
        "    \n",
        "print(sen1)"
      ],
      "execution_count": null,
      "outputs": [
        {
          "output_type": "stream",
          "text": [
            "enter a string\"hell yes\"\n",
            "\"hell-yes\"\n"
          ],
          "name": "stdout"
        }
      ]
    },
    {
      "cell_type": "code",
      "metadata": {
        "id": "-rAowss0_1io",
        "colab_type": "code",
        "colab": {}
      },
      "source": [
        ""
      ],
      "execution_count": null,
      "outputs": []
    },
    {
      "cell_type": "code",
      "metadata": {
        "id": "Njctlarh-eeK",
        "colab_type": "code",
        "colab": {
          "base_uri": "https://localhost:8080/",
          "height": 54
        },
        "outputId": "faeff242-a8ee-4ecc-fde3-cc34918f21e2"
      },
      "source": [
        "sen2=input(\"enter string with words seperated by commas\")\n",
        "string=sen2.split(\",\")\n",
        "string1=sorted(string)\n",
        "p1=\",\".join(string1)\n",
        "'''print(p1)'''\n",
        "string2=list(p1.split(\",\"))\n",
        "'''print(string2)'''\n",
        "string3=[]\n",
        "for i in string2:\n",
        "  if i not in string3:\n",
        "    string3.append(i)\n",
        "string4=\",\".join(string3)\n",
        "print(string4)\n"
      ],
      "execution_count": null,
      "outputs": [
        {
          "output_type": "stream",
          "text": [
            "enter string with words seperated by commasorange,yellow,white,green,red,yellow,white,green\n",
            "green,orange,red,white,yellow\n"
          ],
          "name": "stdout"
        }
      ]
    },
    {
      "cell_type": "code",
      "metadata": {
        "id": "m0fqa-RALCSD",
        "colab_type": "code",
        "colab": {
          "base_uri": "https://localhost:8080/",
          "height": 73
        },
        "outputId": "dfa12133-3054-4e1f-c37a-3679646f9b17"
      },
      "source": [
        "salary=float(input(\"enter your monthly salary\"))\n",
        "if salary<250000:\n",
        "  print(\"there is no need to pay tax\")\n",
        "elif salary>=250001 and salary<=500000:\n",
        "  tax=salary*(5/100)\n",
        "  print(\"your tax amount is:\",tax)\n",
        "  total=salary+tax\n",
        "  print(\"total amount is:\",total)\n",
        "elif salary>=500001 and salary<=750000:\n",
        "  tax=salary*(10/100)\n",
        "  print(\"your tax amount is:\",tax)\n",
        "  total=salary+tax\n",
        "  print(\"total amount is:\",total)\n",
        "elif salary>=750001 and salary<=1000000:\n",
        "  tax=salary*(15/100)\n",
        "  print(\"your tax amount is:\",tax)\n",
        "  total=salary+tax\n",
        "  print(\"total amount is:\",total)\n",
        "elif salary>=1000001 and salary<=1250000:\n",
        "  tax=salary*(20/100)\n",
        "  print(\"your tax amount is:\",tax)\n",
        "  total=salary+tax\n",
        "  print(\"total amount is:\",total)\n",
        "elif salary>=1250001 and salary<=1500000:\n",
        "  tax=salary*(25/100)\n",
        "  print(\"your tax amount is:\",tax)\n",
        "  total=salary+tax\n",
        "  print(\"total amount is:\",total)\n",
        "else:\n",
        "  tax=salary*(30/100)\n",
        "  print(\"your tax amount is:\",tax)\n",
        "  total=salary+tax\n",
        "  print(\"total amount is:\",total)"
      ],
      "execution_count": null,
      "outputs": [
        {
          "output_type": "stream",
          "text": [
            "enter your monthly salary1000000\n",
            "your tax amount is: 150000.0\n",
            "total amount is: 1150000.0\n"
          ],
          "name": "stdout"
        }
      ]
    },
    {
      "cell_type": "code",
      "metadata": {
        "id": "ViR8Z5fHP3_f",
        "colab_type": "code",
        "colab": {
          "base_uri": "https://localhost:8080/",
          "height": 36
        },
        "outputId": "8a12b463-2bdb-4a0a-be09-48ab19478189"
      },
      "source": [
        "list1=[11,33,50]\n",
        "s = [str(i) for i in list1] \n",
        "res = int(\"\".join(s)) \n",
        "print(res)"
      ],
      "execution_count": 59,
      "outputs": [
        {
          "output_type": "stream",
          "text": [
            "113350\n"
          ],
          "name": "stdout"
        }
      ]
    },
    {
      "cell_type": "code",
      "metadata": {
        "id": "ISmOGXrqKxfV",
        "colab_type": "code",
        "colab": {
          "base_uri": "https://localhost:8080/",
          "height": 110
        },
        "outputId": "669d9d9f-7306-40ae-c9b4-e8b52605d593"
      },
      "source": [
        "s=int(input(\"enter no. of days\"))\n",
        "s1=int(input(\"enter no. of hours\"))\n",
        "s2=int(input(\"enter no. of minutes\"))\n",
        "s3=int(input(\"enter no. of seconds\"))\n",
        "seconds=s*86400+s1*3600+s2*60+s3\n",
        "print(seconds)"
      ],
      "execution_count": null,
      "outputs": [
        {
          "output_type": "stream",
          "text": [
            "enter no. of days5\n",
            "enter no. of hours36\n",
            "enter no. of minutes24\n",
            "enter no. of seconds15\n",
            "563055\n"
          ],
          "name": "stdout"
        }
      ]
    },
    {
      "cell_type": "code",
      "metadata": {
        "id": "hsBym7eDMl9v",
        "colab_type": "code",
        "colab": {
          "base_uri": "https://localhost:8080/",
          "height": 110
        },
        "outputId": "d5e44497-ff51-4caa-9062-efd5e25c9a6b"
      },
      "source": [
        "i1=int(input(\"enter 1st int\"))\n",
        "i2=int(input(\"enter 2nd int\"))\n",
        "i3=int(input(\"enter 3rd int\"))\n",
        "print(min(i1,i2,i3))\n",
        "print(max(i1,i2,i3))"
      ],
      "execution_count": null,
      "outputs": [
        {
          "output_type": "stream",
          "text": [
            "enter 1st int85\n",
            "enter 2nd int65\n",
            "enter 3rd int144\n",
            "65\n",
            "144\n"
          ],
          "name": "stdout"
        }
      ]
    },
    {
      "cell_type": "code",
      "metadata": {
        "id": "lZAvWWS-NIX5",
        "colab_type": "code",
        "colab": {
          "base_uri": "https://localhost:8080/",
          "height": 91
        },
        "outputId": "80940e21-f7e9-444c-87e5-d377eeda79a6"
      },
      "source": [
        "y = int(input(\"enter a year: \"))\n",
        "\n",
        "if (y % 400 == 0):\n",
        "    leap_year = True\n",
        "elif (y % 100 == 0):\n",
        "    leap_year = False\n",
        "elif (y % 4 == 0):\n",
        "    leap_year = True\n",
        "else:\n",
        "    leap_year = False\n",
        "\n",
        "m = int(input(\"enter a month [1-12]: \"))\n",
        "\n",
        "if m in (1, 3, 5, 7, 8, 10, 12):\n",
        "    month_length = 31\n",
        "elif m == 2:\n",
        "    if leap_year:\n",
        "        month_length = 29\n",
        "    else:\n",
        "        month_length = 28\n",
        "else:\n",
        "    month_length = 30\n",
        "\n",
        "\n",
        "d = int(input(\"enter a day [1-31]: \"))\n",
        "\n",
        "if d < month_length:\n",
        "    d += 1\n",
        "else:\n",
        "    d = 1\n",
        "    if m == 12:\n",
        "        m = 1\n",
        "        y += 1\n",
        "    else:\n",
        "        m += 1\n",
        "print(\"The immediate successor of given date is [yyyy-mm-dd] %d-%d-%d.\" % (y, m, d))"
      ],
      "execution_count": 108,
      "outputs": [
        {
          "output_type": "stream",
          "text": [
            "enter a year: 1998\n",
            "enter a month [1-12]: 05\n",
            "enter a day [1-31]: 18\n",
            "The immediate successor of given date is [yyyy-mm-dd] 1998-5-19.\n"
          ],
          "name": "stdout"
        }
      ]
    },
    {
      "cell_type": "code",
      "metadata": {
        "id": "aZZvWYhQUeZT",
        "colab_type": "code",
        "colab": {
          "base_uri": "https://localhost:8080/",
          "height": 36
        },
        "outputId": "a1c59ab1-bec1-4410-ba3a-29be58985ef8"
      },
      "source": [
        "list=[45,3,2,89,72,1,10,7]\n",
        "res=1\n",
        "for i in list:\n",
        "  res=res*i\n",
        "print(res)\n"
      ],
      "execution_count": 26,
      "outputs": [
        {
          "output_type": "stream",
          "text": [
            "121111200\n"
          ],
          "name": "stdout"
        }
      ]
    },
    {
      "cell_type": "code",
      "metadata": {
        "id": "3bA6S3x42_n0",
        "colab_type": "code",
        "colab": {}
      },
      "source": [
        ""
      ],
      "execution_count": null,
      "outputs": []
    },
    {
      "cell_type": "code",
      "metadata": {
        "id": "KOJfYMIica64",
        "colab_type": "code",
        "colab": {
          "base_uri": "https://localhost:8080/",
          "height": 248
        },
        "outputId": "5c9ab5d6-6803-4117-adb0-e11340479af8"
      },
      "source": [
        "b=[5,6,8,34,89,1]\n",
        "l\n",
        "l=len()\n",
        "b1=[]\n",
        "for i in range(l-1):\n",
        "  b1.append(b[i]+b[i+1])\n",
        "print(b1)\n"
      ],
      "execution_count": 128,
      "outputs": [
        {
          "output_type": "error",
          "ename": "TypeError",
          "evalue": "ignored",
          "traceback": [
            "\u001b[0;31m---------------------------------------------------------------------------\u001b[0m",
            "\u001b[0;31mTypeError\u001b[0m                                 Traceback (most recent call last)",
            "\u001b[0;32m<ipython-input-128-04544dc3263b>\u001b[0m in \u001b[0;36m<module>\u001b[0;34m()\u001b[0m\n\u001b[1;32m      1\u001b[0m \u001b[0mb\u001b[0m\u001b[0;34m=\u001b[0m\u001b[0;34m[\u001b[0m\u001b[0;36m5\u001b[0m\u001b[0;34m,\u001b[0m\u001b[0;36m6\u001b[0m\u001b[0;34m,\u001b[0m\u001b[0;36m8\u001b[0m\u001b[0;34m,\u001b[0m\u001b[0;36m34\u001b[0m\u001b[0;34m,\u001b[0m\u001b[0;36m89\u001b[0m\u001b[0;34m,\u001b[0m\u001b[0;36m1\u001b[0m\u001b[0;34m]\u001b[0m\u001b[0;34m\u001b[0m\u001b[0;34m\u001b[0m\u001b[0m\n\u001b[1;32m      2\u001b[0m \u001b[0ml\u001b[0m\u001b[0;34m\u001b[0m\u001b[0;34m\u001b[0m\u001b[0m\n\u001b[0;32m----> 3\u001b[0;31m \u001b[0ml\u001b[0m\u001b[0;34m=\u001b[0m\u001b[0mlen\u001b[0m\u001b[0;34m(\u001b[0m\u001b[0;34m)\u001b[0m\u001b[0;34m\u001b[0m\u001b[0;34m\u001b[0m\u001b[0m\n\u001b[0m\u001b[1;32m      4\u001b[0m \u001b[0mb1\u001b[0m\u001b[0;34m=\u001b[0m\u001b[0;34m[\u001b[0m\u001b[0;34m]\u001b[0m\u001b[0;34m\u001b[0m\u001b[0;34m\u001b[0m\u001b[0m\n\u001b[1;32m      5\u001b[0m \u001b[0;32mfor\u001b[0m \u001b[0mi\u001b[0m \u001b[0;32min\u001b[0m \u001b[0mrange\u001b[0m\u001b[0;34m(\u001b[0m\u001b[0ml\u001b[0m\u001b[0;34m-\u001b[0m\u001b[0;36m1\u001b[0m\u001b[0;34m)\u001b[0m\u001b[0;34m:\u001b[0m\u001b[0;34m\u001b[0m\u001b[0;34m\u001b[0m\u001b[0m\n",
            "\u001b[0;31mTypeError\u001b[0m: 'int' object is not callable"
          ]
        }
      ]
    },
    {
      "cell_type": "code",
      "metadata": {
        "id": "aUGroHelZgxx",
        "colab_type": "code",
        "colab": {
          "base_uri": "https://localhost:8080/",
          "height": 248
        },
        "outputId": "00eaaa01-7147-46a8-cd7a-fcd4981379fd"
      },
      "source": [
        "t=(5,6,8,3,9,1)\n",
        "tu1=[]\n",
        "tu1.append(tu[0])\n",
        "for i in range(len(t)-1):\n",
        "  t1=tu1[i]*t[i+1]\n",
        "  tu1.append(t1)\n",
        "print(tu1)"
      ],
      "execution_count": 114,
      "outputs": [
        {
          "output_type": "error",
          "ename": "AttributeError",
          "evalue": "ignored",
          "traceback": [
            "\u001b[0;31m---------------------------------------------------------------------------\u001b[0m",
            "\u001b[0;31mAttributeError\u001b[0m                            Traceback (most recent call last)",
            "\u001b[0;32m<ipython-input-114-abe70328098e>\u001b[0m in \u001b[0;36m<module>\u001b[0;34m()\u001b[0m\n\u001b[1;32m      2\u001b[0m \u001b[0mtu1\u001b[0m\u001b[0;34m=\u001b[0m\u001b[0;34m[\u001b[0m\u001b[0;34m]\u001b[0m\u001b[0;34m\u001b[0m\u001b[0;34m\u001b[0m\u001b[0m\n\u001b[1;32m      3\u001b[0m \u001b[0mtu1\u001b[0m\u001b[0;34m.\u001b[0m\u001b[0mappend\u001b[0m\u001b[0;34m(\u001b[0m\u001b[0mtu\u001b[0m\u001b[0;34m[\u001b[0m\u001b[0;36m0\u001b[0m\u001b[0;34m]\u001b[0m\u001b[0;34m)\u001b[0m\u001b[0;34m\u001b[0m\u001b[0;34m\u001b[0m\u001b[0m\n\u001b[0;32m----> 4\u001b[0;31m \u001b[0;32mfor\u001b[0m \u001b[0mi\u001b[0m \u001b[0;32min\u001b[0m \u001b[0mrange\u001b[0m\u001b[0;34m(\u001b[0m\u001b[0mt\u001b[0m\u001b[0;34m.\u001b[0m\u001b[0mlen\u001b[0m\u001b[0;34m-\u001b[0m\u001b[0;36m1\u001b[0m\u001b[0;34m)\u001b[0m\u001b[0;34m:\u001b[0m\u001b[0;34m\u001b[0m\u001b[0;34m\u001b[0m\u001b[0m\n\u001b[0m\u001b[1;32m      5\u001b[0m   \u001b[0mt1\u001b[0m\u001b[0;34m=\u001b[0m\u001b[0mtu1\u001b[0m\u001b[0;34m[\u001b[0m\u001b[0mi\u001b[0m\u001b[0;34m]\u001b[0m\u001b[0;34m*\u001b[0m\u001b[0mt\u001b[0m\u001b[0;34m[\u001b[0m\u001b[0mi\u001b[0m\u001b[0;34m+\u001b[0m\u001b[0;36m1\u001b[0m\u001b[0;34m]\u001b[0m\u001b[0;34m\u001b[0m\u001b[0;34m\u001b[0m\u001b[0m\n\u001b[1;32m      6\u001b[0m   \u001b[0mtu1\u001b[0m\u001b[0;34m.\u001b[0m\u001b[0mappend\u001b[0m\u001b[0;34m(\u001b[0m\u001b[0mt1\u001b[0m\u001b[0;34m)\u001b[0m\u001b[0;34m\u001b[0m\u001b[0;34m\u001b[0m\u001b[0m\n",
            "\u001b[0;31mAttributeError\u001b[0m: 'tuple' object has no attribute 'len'"
          ]
        }
      ]
    },
    {
      "cell_type": "code",
      "metadata": {
        "id": "Jb-FBamYagxU",
        "colab_type": "code",
        "colab": {
          "base_uri": "https://localhost:8080/",
          "height": 54
        },
        "outputId": "14168392-6335-4a33-b849-f90360a94358"
      },
      "source": [
        "s=int(input(\"enter a number\"))\n",
        "s1=[]\n",
        "for i in str(s):\n",
        "  s1.append(int(i))\n",
        "print(s1)"
      ],
      "execution_count": 91,
      "outputs": [
        {
          "output_type": "stream",
          "text": [
            "enter a number544\n",
            "[5, 4, 4]\n"
          ],
          "name": "stdout"
        }
      ]
    },
    {
      "cell_type": "code",
      "metadata": {
        "id": "6RHzasXnkxUQ",
        "colab_type": "code",
        "colab": {
          "base_uri": "https://localhost:8080/",
          "height": 73
        },
        "outputId": "2c24d788-5111-4d3f-8a68-6e0c36bbc7b8"
      },
      "source": [
        "b1=input(\"enter first binary string\")\n",
        "b2=input(\"enter second string\")\n",
        "if b2 in b1:\n",
        "  print(\"1\")\n",
        "else:\n",
        "  print(\"0\")"
      ],
      "execution_count": 93,
      "outputs": [
        {
          "output_type": "stream",
          "text": [
            "enter first binary string1010110010\n",
            "enter second string10110\n",
            "1\n"
          ],
          "name": "stdout"
        }
      ]
    },
    {
      "cell_type": "code",
      "metadata": {
        "id": "5Ngbe-dRlXPF",
        "colab_type": "code",
        "colab": {
          "base_uri": "https://localhost:8080/",
          "height": 259
        },
        "outputId": "e1fa2d3f-1a6d-4391-d337-d8f82203c4d0"
      },
      "source": [
        "t=int(input(\"enter no. of testcases\"))\n",
        "i=0\n",
        "while i<t:\n",
        "  i=i+1\n",
        "  a=int(input(\"enter first vessel capacity\"))\n",
        "  b=int(input(\"enter second vessel capacity\"))\n",
        "  c=int(input(\"how many litres of water u want from a and b vessels\"))\n",
        "  if a<c and b<c:\n",
        "    print(\"-1\")\n",
        "  elif a==c or b==c:\n",
        "    print(\"1\")\n",
        "  else:\n",
        "    if a>b:\n",
        "      b=0\n",
        "      r=a-b;\n",
        "      if c==a:\n",
        "        print(\"3\")\n",
        "      else:\n",
        "        print(\"2\")\n",
        "    else:\n",
        "      a=0\n",
        "      if c==b:\n",
        "        print(\"3\")\n",
        "      else:\n",
        "        print(\"2\")\n",
        "        \n",
        "\n",
        "\n",
        "\n",
        "\n",
        "\n"
      ],
      "execution_count": 103,
      "outputs": [
        {
          "output_type": "stream",
          "text": [
            "enter no. of testcases3\n",
            "enter first vessel capacity4\n",
            "enter second vessel capacity3\n",
            "how many litres of water u want from a and b vessels3\n",
            "1\n",
            "enter first vessel capacity2\n",
            "enter second vessel capacity6\n",
            "how many litres of water u want from a and b vessels4\n",
            "2\n",
            "enter first vessel capacity8\n",
            "enter second vessel capacity4\n",
            "how many litres of water u want from a and b vessels7\n",
            "2\n"
          ],
          "name": "stdout"
        }
      ]
    }
  ]
}